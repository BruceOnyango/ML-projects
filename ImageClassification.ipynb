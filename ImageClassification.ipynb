{
  "nbformat": 4,
  "nbformat_minor": 0,
  "metadata": {
    "colab": {
      "provenance": []
    },
    "kernelspec": {
      "name": "python3",
      "display_name": "Python 3"
    },
    "language_info": {
      "name": "python"
    }
  },
  "cells": [
    {
      "cell_type": "code",
      "source": [
        "import tensorflow as tf\n",
        "from tensorflow import keras\n",
        "import numpy as np\n",
        "import matplotlib.pyplot as plt \n",
        "fashion = keras.datasets.fashion_mnist\n",
        "(xtrain, ytrain), (xtest, ytest) = fashion.load_data()"
      ],
      "metadata": {
        "colab": {
          "base_uri": "https://localhost:8080/"
        },
        "id": "9ipruI3nyks2",
        "outputId": "f7bcd739-226b-48fe-f7d8-a2532892be01"
      },
      "execution_count": 18,
      "outputs": [
        {
          "output_type": "stream",
          "name": "stdout",
          "text": [
            "Downloading data from https://storage.googleapis.com/tensorflow/tf-keras-datasets/train-labels-idx1-ubyte.gz\n",
            "29515/29515 [==============================] - 0s 0us/step\n",
            "Downloading data from https://storage.googleapis.com/tensorflow/tf-keras-datasets/train-images-idx3-ubyte.gz\n",
            "26421880/26421880 [==============================] - 0s 0us/step\n",
            "Downloading data from https://storage.googleapis.com/tensorflow/tf-keras-datasets/t10k-labels-idx1-ubyte.gz\n",
            "5148/5148 [==============================] - 0s 0us/step\n",
            "Downloading data from https://storage.googleapis.com/tensorflow/tf-keras-datasets/t10k-images-idx3-ubyte.gz\n",
            "4422102/4422102 [==============================] - 0s 0us/step\n"
          ]
        }
      ]
    },
    {
      "cell_type": "code",
      "source": [
        "imgIndex = 9\n",
        "image = xtrain[imgIndex]\n",
        "print(\"Image Label :\", ytrain[imgIndex])\n",
        "plt.imshow(image)\n"
      ],
      "metadata": {
        "colab": {
          "base_uri": "https://localhost:8080/",
          "height": 300
        },
        "id": "e4N1vm5L1o7e",
        "outputId": "ad705b29-3c00-42f0-c178-af439b5ff277"
      },
      "execution_count": 19,
      "outputs": [
        {
          "output_type": "stream",
          "name": "stdout",
          "text": [
            "Image Label : 5\n"
          ]
        },
        {
          "output_type": "execute_result",
          "data": {
            "text/plain": [
              "<matplotlib.image.AxesImage at 0x7fcb542de890>"
            ]
          },
          "metadata": {},
          "execution_count": 19
        },
        {
          "output_type": "display_data",
          "data": {
            "text/plain": [
              "<Figure size 432x288 with 1 Axes>"
            ],
            "image/png": "[encoded data removed]"
          },
          "metadata": {
            "needs_background": "light"
          }
        }
      ]
    },
    {
      "cell_type": "code",
      "source": [
        "print(xtrain.shape)\n",
        "print(xtest.shape)"
      ],
      "metadata": {
        "colab": {
          "base_uri": "https://localhost:8080/"
        },
        "id": "AXfUcVfz086L",
        "outputId": "440142c8-dce1-4368-fcf6-fe8ec913fe7b"
      },
      "execution_count": 20,
      "outputs": [
        {
          "output_type": "stream",
          "name": "stdout",
          "text": [
            "(60000, 28, 28)\n",
            "(10000, 28, 28)\n"
          ]
        }
      ]
    },
    {
      "cell_type": "code",
      "source": [
        "model = keras.models.Sequential([\n",
        "    keras.layers.Flatten(input_shape=[28, 28]),\n",
        "    keras.layers.Dense(300, activation=\"relu\"),\n",
        "    keras.layers.Dense(100, activation=\"relu\"),\n",
        "    keras.layers.Dense(10, activation=\"softmax\")\n",
        "])\n",
        "print(model.summary())"
      ],
      "metadata": {
        "colab": {
          "base_uri": "https://localhost:8080/"
        },
        "id": "vACqEknx1A86",
        "outputId": "512f17ec-f8b8-444b-c35f-e6b8f38e4c25"
      },
      "execution_count": 21,
      "outputs": [
        {
          "output_type": "stream",
          "name": "stdout",
          "text": [
            "Model: \"sequential\"\n",
            "_________________________________________________________________\n",
            " Layer (type)                Output Shape              Param #   \n",
            "=================================================================\n",
            " flatten (Flatten)           (None, 784)               0         \n",
            "                                                                 \n",
            " dense (Dense)               (None, 300)               235500    \n",
            "                                                                 \n",
            " dense_1 (Dense)             (None, 100)               30100     \n",
            "                                                                 \n",
            " dense_2 (Dense)             (None, 10)                1010      \n",
            "                                                                 \n",
            "=================================================================\n",
            "Total params: 266,610\n",
            "Trainable params: 266,610\n",
            "Non-trainable params: 0\n",
            "_________________________________________________________________\n",
            "None\n"
          ]
        }
      ]
    },
    {
      "cell_type": "code",
      "execution_count": 22,
      "metadata": {
        "id": "6fL50SvFyPGt"
      },
      "outputs": [],
      "source": [
        "xvalid, xtrain = xtrain[:5000]/255.0, xtrain[5000:]/255.0\n",
        "yvalid, ytrain = ytrain[:5000], ytrain[5000:]"
      ]
    },
    {
      "cell_type": "code",
      "source": [
        "model.compile(loss=\"sparse_categorical_crossentropy\",\n",
        "              optimizer=\"sgd\",\n",
        "              metrics=[\"accuracy\"])\n",
        "history = model.fit(xtrain, ytrain, epochs=30,\n",
        "                    validation_data=(xvalid, yvalid))"
      ],
      "metadata": {
        "id": "rXp-bSr2yjqc",
        "colab": {
          "base_uri": "https://localhost:8080/"
        },
        "outputId": "420ed300-9144-41c4-e190-3c8507632911"
      },
      "execution_count": 23,
      "outputs": [
        {
          "output_type": "stream",
          "name": "stdout",
          "text": [
            "Epoch 1/30\n",
            "1719/1719 [==============================] - 10s 5ms/step - loss: 0.7211 - accuracy: 0.7660 - val_loss: 0.5184 - val_accuracy: 0.8174\n",
            "Epoch 2/30\n",
            "1719/1719 [==============================] - 9s 5ms/step - loss: 0.4869 - accuracy: 0.8299 - val_loss: 0.4687 - val_accuracy: 0.8392\n",
            "Epoch 3/30\n",
            "1719/1719 [==============================] - 9s 5ms/step - loss: 0.4435 - accuracy: 0.8439 - val_loss: 0.4107 - val_accuracy: 0.8606\n",
            "Epoch 4/30\n",
            "1719/1719 [==============================] - 9s 5ms/step - loss: 0.4176 - accuracy: 0.8540 - val_loss: 0.3946 - val_accuracy: 0.8678\n",
            "Epoch 5/30\n",
            "1719/1719 [==============================] - 10s 6ms/step - loss: 0.3982 - accuracy: 0.8604 - val_loss: 0.3831 - val_accuracy: 0.8706\n",
            "Epoch 6/30\n",
            "1719/1719 [==============================] - 10s 6ms/step - loss: 0.3817 - accuracy: 0.8661 - val_loss: 0.3657 - val_accuracy: 0.8742\n",
            "Epoch 7/30\n",
            "1719/1719 [==============================] - 10s 6ms/step - loss: 0.3680 - accuracy: 0.8693 - val_loss: 0.3842 - val_accuracy: 0.8664\n",
            "Epoch 8/30\n",
            "1719/1719 [==============================] - 9s 5ms/step - loss: 0.3552 - accuracy: 0.8734 - val_loss: 0.3744 - val_accuracy: 0.8662\n",
            "Epoch 9/30\n",
            "1719/1719 [==============================] - 10s 6ms/step - loss: 0.3456 - accuracy: 0.8763 - val_loss: 0.3535 - val_accuracy: 0.8782\n",
            "Epoch 10/30\n",
            "1719/1719 [==============================] - 9s 5ms/step - loss: 0.3356 - accuracy: 0.8794 - val_loss: 0.3476 - val_accuracy: 0.8784\n",
            "Epoch 11/30\n",
            "1719/1719 [==============================] - 9s 5ms/step - loss: 0.3268 - accuracy: 0.8826 - val_loss: 0.3460 - val_accuracy: 0.8782\n",
            "Epoch 12/30\n",
            "1719/1719 [==============================] - 9s 5ms/step - loss: 0.3175 - accuracy: 0.8852 - val_loss: 0.3347 - val_accuracy: 0.8812\n",
            "Epoch 13/30\n",
            "1719/1719 [==============================] - 11s 6ms/step - loss: 0.3114 - accuracy: 0.8881 - val_loss: 0.3268 - val_accuracy: 0.8878\n",
            "Epoch 14/30\n",
            "1719/1719 [==============================] - 9s 5ms/step - loss: 0.3041 - accuracy: 0.8901 - val_loss: 0.3311 - val_accuracy: 0.8836\n",
            "Epoch 15/30\n",
            "1719/1719 [==============================] - 9s 5ms/step - loss: 0.2975 - accuracy: 0.8923 - val_loss: 0.3275 - val_accuracy: 0.8814\n",
            "Epoch 16/30\n",
            "1719/1719 [==============================] - 9s 5ms/step - loss: 0.2910 - accuracy: 0.8962 - val_loss: 0.3247 - val_accuracy: 0.8860\n",
            "Epoch 17/30\n",
            "1719/1719 [==============================] - 10s 6ms/step - loss: 0.2854 - accuracy: 0.8978 - val_loss: 0.3092 - val_accuracy: 0.8882\n",
            "Epoch 18/30\n",
            "1719/1719 [==============================] - 11s 6ms/step - loss: 0.2786 - accuracy: 0.9005 - val_loss: 0.3225 - val_accuracy: 0.8850\n",
            "Epoch 19/30\n",
            "1719/1719 [==============================] - 9s 5ms/step - loss: 0.2749 - accuracy: 0.9011 - val_loss: 0.3179 - val_accuracy: 0.8890\n",
            "Epoch 20/30\n",
            "1719/1719 [==============================] - 9s 5ms/step - loss: 0.2698 - accuracy: 0.9025 - val_loss: 0.3167 - val_accuracy: 0.8858\n",
            "Epoch 21/30\n",
            "1719/1719 [==============================] - 9s 5ms/step - loss: 0.2647 - accuracy: 0.9056 - val_loss: 0.3067 - val_accuracy: 0.8900\n",
            "Epoch 22/30\n",
            "1719/1719 [==============================] - 9s 5ms/step - loss: 0.2603 - accuracy: 0.9069 - val_loss: 0.3215 - val_accuracy: 0.8812\n",
            "Epoch 23/30\n",
            "1719/1719 [==============================] - 9s 5ms/step - loss: 0.2558 - accuracy: 0.9074 - val_loss: 0.3195 - val_accuracy: 0.8864\n",
            "Epoch 24/30\n",
            "1719/1719 [==============================] - 10s 6ms/step - loss: 0.2506 - accuracy: 0.9098 - val_loss: 0.3015 - val_accuracy: 0.8926\n",
            "Epoch 25/30\n",
            "1719/1719 [==============================] - 9s 5ms/step - loss: 0.2471 - accuracy: 0.9101 - val_loss: 0.3001 - val_accuracy: 0.8928\n",
            "Epoch 26/30\n",
            "1719/1719 [==============================] - 9s 5ms/step - loss: 0.2424 - accuracy: 0.9141 - val_loss: 0.3059 - val_accuracy: 0.8920\n",
            "Epoch 27/30\n",
            "1719/1719 [==============================] - 9s 5ms/step - loss: 0.2386 - accuracy: 0.9151 - val_loss: 0.3049 - val_accuracy: 0.8910\n",
            "Epoch 28/30\n",
            "1719/1719 [==============================] - 9s 5ms/step - loss: 0.2354 - accuracy: 0.9158 - val_loss: 0.3228 - val_accuracy: 0.8810\n",
            "Epoch 29/30\n",
            "1719/1719 [==============================] - 9s 5ms/step - loss: 0.2308 - accuracy: 0.9161 - val_loss: 0.3163 - val_accuracy: 0.8876\n",
            "Epoch 30/30\n",
            "1719/1719 [==============================] - 9s 5ms/step - loss: 0.2271 - accuracy: 0.9183 - val_loss: 0.3176 - val_accuracy: 0.8890\n"
          ]
        }
      ]
    },
    {
      "cell_type": "code",
      "source": [
        "new = xtest[:5]\n",
        "predictions = model.predict(new)\n",
        "print(predictions)"
      ],
      "metadata": {
        "id": "8zSWf7t8-o62",
        "outputId": "7f290eaa-3734-4d40-d1c8-33077c0e2a13",
        "colab": {
          "base_uri": "https://localhost:8080/"
        }
      },
      "execution_count": 24,
      "outputs": [
        {
          "output_type": "stream",
          "name": "stdout",
          "text": [
            "1/1 [==============================] - 0s 96ms/step\n",
            "[[0.0000000e+00 0.0000000e+00 0.0000000e+00 0.0000000e+00 0.0000000e+00\n",
            "  0.0000000e+00 0.0000000e+00 0.0000000e+00 0.0000000e+00 1.0000000e+00]\n",
            " [0.0000000e+00 0.0000000e+00 1.0000000e+00 0.0000000e+00 0.0000000e+00\n",
            "  0.0000000e+00 0.0000000e+00 0.0000000e+00 0.0000000e+00 0.0000000e+00]\n",
            " [0.0000000e+00 1.0000000e+00 0.0000000e+00 0.0000000e+00 0.0000000e+00\n",
            "  0.0000000e+00 0.0000000e+00 0.0000000e+00 0.0000000e+00 0.0000000e+00]\n",
            " [0.0000000e+00 1.0000000e+00 0.0000000e+00 0.0000000e+00 0.0000000e+00\n",
            "  0.0000000e+00 0.0000000e+00 0.0000000e+00 0.0000000e+00 0.0000000e+00]\n",
            " [1.0000000e+00 0.0000000e+00 0.0000000e+00 0.0000000e+00 0.0000000e+00\n",
            "  0.0000000e+00 2.9213925e-21 0.0000000e+00 0.0000000e+00 0.0000000e+00]]\n"
          ]
        }
      ]
    },
    {
      "cell_type": "code",
      "source": [
        "classes = np.argmax(predictions, axis=1)\n",
        "print(classes)"
      ],
      "metadata": {
        "id": "fzVtk3bO-0MX",
        "outputId": "d1407a7c-1c74-4d19-9d7d-d81e24c9a033",
        "colab": {
          "base_uri": "https://localhost:8080/"
        }
      },
      "execution_count": 25,
      "outputs": [
        {
          "output_type": "stream",
          "name": "stdout",
          "text": [
            "[9 2 1 1 0]\n"
          ]
        }
      ]
    }
  ]
}